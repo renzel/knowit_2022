{
 "cells": [
  {
   "cell_type": "code",
   "execution_count": 45,
   "metadata": {},
   "outputs": [
    {
     "name": "stdout",
     "output_type": "stream",
     "text": [
      "{'Maskin A': [{'temp': 101, 'vann': 1078, 'kullsyre': 486}, {'temp': 104, 'vann': 947, 'kullsyre': 337}], 'Maskin B': [{'temp': 90, 'vann': 1018, 'kullsyre': 358}, {'temp': 100, 'vann': 519, 'kullsyre': 485}, {'temp': 98, 'vann': 1203, 'kullsyre': 485}], 'Maskin C': [{'temp': 101, 'vann': 904, 'kullsyre': 466}, {'temp': 97, 'vann': 1649, 'kullsyre': 451}], 'Maskin D': [{'temp': 104, 'vann': 490, 'kullsyre': 801}]}\n",
      "1026.6\n",
      "Maskin A\n",
      "880.7\n",
      "Maskin A\n",
      "467.5\n",
      "Maskin B\n",
      "1151.5\n",
      "Maskin B\n",
      "850.6\n",
      "Maskin C\n",
      "{'Maskin A': 1859, 'Maskin B': 1607, 'Maskin C': 829}\n",
      "Maskin A\n",
      "4295\n"
     ]
    }
   ],
   "source": [
    "brus_maskiner = {}\n",
    "with open(\"julebrusmaskiner.txt\", \"r\") as f:\n",
    "    for line in f.readlines():\n",
    "        #print(line.strip().split(\",\"))\n",
    "        liste_av_info = line.strip().split(\",\")\n",
    "        info_dict = {}\n",
    "        info_dict[\"temp\"] = int(liste_av_info[1].strip().split(\" \")[1][:-1])\n",
    "        info_dict[\"vann\"] = int(liste_av_info[2].strip().split(\" \")[1][:-1])\n",
    "        info_dict[\"kullsyre\"] = int(liste_av_info[3].strip().split(\" \")[1][:-1])\n",
    "        if not brus_maskiner.get(liste_av_info[0]):\n",
    "            brus_maskiner[liste_av_info[0]] = [info_dict]\n",
    "        else:\n",
    "            brus_maskiner[liste_av_info[0]].append(info_dict)\n",
    "    #print(brus_maskiner)\n",
    "print(brus_maskiner)\n",
    "brus_produsert = {}\n",
    "for key, list in brus_maskiner.items():\n",
    "    for value in list:\n",
    "        if 105 >= value[\"temp\"] >= 95 and 1500 >= value[\"vann\"] >= 400 and 500 >= value[\"kullsyre\"] >= 300:\n",
    "            vann_produsert = value[\"vann\"] - 100 + value[\"kullsyre\"] / 10\n",
    "            print(vann_produsert)\n",
    "            print(key)\n",
    "            if value[\"temp\"] >= 100:\n",
    "                vann_produsert = vann_produsert - int(vann_produsert / 40)\n",
    "            if brus_produsert.get(key):\n",
    "                brus_produsert[key] += int(vann_produsert)\n",
    "            else:\n",
    "                brus_produsert[key] = int(vann_produsert)\n",
    "print(brus_produsert)\n",
    "total_brus_produsert = 0\n",
    "for key, value in brus_produsert.items():\n",
    "    total_brus_produsert += value\n",
    "#brus_produsert.__reduce__()\n",
    "print(max(brus_produsert, key=brus_produsert.get))\n",
    "print(total_brus_produsert)\n"
   ]
  },
  {
   "cell_type": "code",
   "execution_count": 24,
   "metadata": {},
   "outputs": [
    {
     "name": "stdout",
     "output_type": "stream",
     "text": [
      "10\n"
     ]
    }
   ],
   "source": [
    "print(round(10,75))"
   ]
  },
  {
   "cell_type": "code",
   "execution_count": null,
   "metadata": {},
   "outputs": [],
   "source": []
  }
 ],
 "metadata": {
  "kernelspec": {
   "display_name": "Python 3.10.4 64-bit",
   "language": "python",
   "name": "python3"
  },
  "language_info": {
   "codemirror_mode": {
    "name": "ipython",
    "version": 3
   },
   "file_extension": ".py",
   "mimetype": "text/x-python",
   "name": "python",
   "nbconvert_exporter": "python",
   "pygments_lexer": "ipython3",
   "version": "3.10.4"
  },
  "orig_nbformat": 4,
  "vscode": {
   "interpreter": {
    "hash": "916dbcbb3f70747c44a77c7bcd40155683ae19c65e1c03b4aa3499c5328201f1"
   }
  }
 },
 "nbformat": 4,
 "nbformat_minor": 2
}
