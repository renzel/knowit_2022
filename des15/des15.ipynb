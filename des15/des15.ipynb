{
 "cells": [
  {
   "cell_type": "code",
   "execution_count": 9,
   "metadata": {},
   "outputs": [
    {
     "name": "stdout",
     "output_type": "stream",
     "text": [
      "600\n",
      "IN HERE\n",
      "1000\n",
      "IN HERE\n",
      "100\n",
      "1300\n",
      "1400\n",
      "200\n",
      "[0, 1, 5]\n",
      "100\n",
      "IN HERE\n",
      "1300\n",
      "1400\n",
      "IN HERE\n",
      "[2, 4, 4]\n",
      "1300\n",
      "IN HERE\n",
      "[3, 3]\n",
      "3\n"
     ]
    }
   ],
   "source": [
    "import pandas as pd\n",
    "data = pd.read_csv(\"test.csv\")\n",
    "\n",
    "max_liter = 120\n",
    "max_verdi = 1700\n",
    "turer = 0\n",
    "liter = 0\n",
    "verdi = 0\n",
    "\n",
    "while not data.empty:\n",
    "    found = False\n",
    "    # print(data)\n",
    "    indexes_to_drop = []\n",
    "    \n",
    "    for index, row in data.iterrows():\n",
    "        print(row['value'])\n",
    "        print(verdi + row['value'])\n",
    "        print()\n",
    "        if verdi + row['value'] <= 1700:\n",
    "            if liter + row['volume'] == 120:\n",
    "                turer += 1\n",
    "                indexes_to_drop.append(index)\n",
    "                verdi = 0\n",
    "                liter = 0\n",
    "                found = True\n",
    "                break\n",
    "            elif liter + row['volume'] <= 120:\n",
    "                print(\"IN HERE\")\n",
    "                verdi += row['value']\n",
    "                liter += row['volume']\n",
    "                indexes_to_drop.append(index)\n",
    "            #else:\n",
    "                #find_correct_package(data)\n",
    "        #else:\n",
    "        #    turer += 1\n",
    "        #    indexes_to_drop.append(index)\n",
    "        #    verdi += row['value']\n",
    "        #    liter += row['volume']\n",
    "        #    found = True\n",
    "        #    break\n",
    "    if not found:\n",
    "        turer += 1\n",
    "        indexes_to_drop.append(index)\n",
    "        verdi = 0\n",
    "        liter = 0\n",
    "    print(indexes_to_drop)\n",
    "    if indexes_to_drop:\n",
    "        data = data.drop(indexes_to_drop)\n",
    "\n",
    "print(turer)"
   ]
  },
  {
   "cell_type": "code",
   "execution_count": 6,
   "metadata": {},
   "outputs": [
    {
     "name": "stdout",
     "output_type": "stream",
     "text": [
      "   value  volume\n",
      "0    600      30\n",
      "1   1000      40\n",
      "2    100      60\n",
      "3   1300      70\n",
      "4   1400      30\n",
      "5    200     100\n",
      "   value  volume\n",
      "1   1000      40\n",
      "2    100      60\n",
      "3   1300      70\n",
      "4   1400      30\n",
      "5    200     100\n"
     ]
    }
   ],
   "source": [
    "import pandas as pd\n",
    "data = pd.read_csv(\"test.csv\")\n",
    "print(data)\n",
    "data = data.drop(0)\n",
    "print(data)\n"
   ]
  },
  {
   "cell_type": "code",
   "execution_count": 3,
   "metadata": {},
   "outputs": [
    {
     "name": "stdout",
     "output_type": "stream",
     "text": [
      "[['1300', '70'], ['1400', '30'], ['200', '100']]\n"
     ]
    }
   ],
   "source": [
    "x = [['600', '30'], ['1000', '40'], ['100', '60'], ['1300', '70'], ['1400', '30'], ['200', '100']]\n",
    "y = [0, 1, 2]\n",
    "\n",
    "for index in sorted(y, reverse=True):\n",
    "    del x[index]\n",
    "print(x)"
   ]
  },
  {
   "cell_type": "code",
   "execution_count": null,
   "metadata": {},
   "outputs": [],
   "source": []
  }
 ],
 "metadata": {
  "kernelspec": {
   "display_name": "Python 3",
   "language": "python",
   "name": "python3"
  },
  "language_info": {
   "codemirror_mode": {
    "name": "ipython",
    "version": 3
   },
   "file_extension": ".py",
   "mimetype": "text/x-python",
   "name": "python",
   "nbconvert_exporter": "python",
   "pygments_lexer": "ipython3",
   "version": "3.10.5"
  },
  "orig_nbformat": 4,
  "vscode": {
   "interpreter": {
    "hash": "97cc609b13305c559618ec78a438abc56230b9381f827f22d070313b9a1f3777"
   }
  }
 },
 "nbformat": 4,
 "nbformat_minor": 2
}
