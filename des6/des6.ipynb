{
 "cells": [
  {
   "cell_type": "code",
   "execution_count": 30,
   "metadata": {},
   "outputs": [
    {
     "name": "stdout",
     "output_type": "stream",
     "text": [
      "{'julenissen': 1816.6999999999875, 'alvekongen': 590.0999999999999, 'sneglulf': 492.8000000000007}\n",
      "1226.5999999999876\n",
      "1227\n"
     ]
    }
   ],
   "source": [
    "with open(\"slemmehandlinger.txt\", \"r\") as f:\n",
    "    handlinger = f.read()\n",
    "\n",
    "handlinger_dict = {}\n",
    "for handling in handlinger.split(\"\\n\"):\n",
    "    list_per_handling = handling.split(\":\")\n",
    "    handlinger_dict[list_per_handling[0]] = list_per_handling[1]\n",
    "\n",
    "final_vote = {}\n",
    "with open(\"stemmer.txt\", \"r\") as f:\n",
    "    stemmer = f.read()\n",
    "for stemme in stemmer.split(\"\\n\"):\n",
    "    handling_stemme = stemme.split(\":\")\n",
    "    stemme_value = 1.0\n",
    "\n",
    "    for handlinger_gjort in handling_stemme[0].split(\",\"):\n",
    "        if handlinger_dict.get(handlinger_gjort):\n",
    "            \n",
    "            if float(handlinger_dict[handlinger_gjort]) < stemme_value:\n",
    "               \n",
    "                stemme_value = float(handlinger_dict[handlinger_gjort])\n",
    "\n",
    "    if final_vote.get(handling_stemme[1]):\n",
    "        final_vote[handling_stemme[1]] = final_vote[handling_stemme[1]] + stemme_value\n",
    "    else:\n",
    "        final_vote[handling_stemme[1]] = stemme_value\n",
    "\n",
    "second_place = 0.0\n",
    "for key, value in final_vote.items():\n",
    "    if key == \"julenissen\":\n",
    "        julenissen_votes = value\n",
    "    else:\n",
    "        if value > second_place:\n",
    "            second_place = value\n",
    "\n",
    "print(round(julenissen_votes - second_place))"
   ]
  },
  {
   "cell_type": "code",
   "execution_count": 29,
   "metadata": {},
   "outputs": [
    {
     "name": "stdout",
     "output_type": "stream",
     "text": [
      "{'test': 2}\n"
     ]
    }
   ],
   "source": [
    "x = {\"test\": 1}\n",
    "x[\"test\"] = x[\"test\"] + 1\n",
    "print(x)"
   ]
  },
  {
   "cell_type": "code",
   "execution_count": null,
   "metadata": {},
   "outputs": [],
   "source": []
  }
 ],
 "metadata": {
  "kernelspec": {
   "display_name": "Python 3.10.5 64-bit",
   "language": "python",
   "name": "python3"
  },
  "language_info": {
   "codemirror_mode": {
    "name": "ipython",
    "version": 3
   },
   "file_extension": ".py",
   "mimetype": "text/x-python",
   "name": "python",
   "nbconvert_exporter": "python",
   "pygments_lexer": "ipython3",
   "version": "3.10.5"
  },
  "orig_nbformat": 4,
  "vscode": {
   "interpreter": {
    "hash": "97cc609b13305c559618ec78a438abc56230b9381f827f22d070313b9a1f3777"
   }
  }
 },
 "nbformat": 4,
 "nbformat_minor": 2
}
