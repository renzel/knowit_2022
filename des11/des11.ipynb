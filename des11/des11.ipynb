{
 "cells": [
  {
   "cell_type": "code",
   "execution_count": 15,
   "metadata": {},
   "outputs": [
    {
     "name": "stdout",
     "output_type": "stream",
     "text": [
      "4\n",
      "4\n",
      "2\n",
      "4\n",
      "Index: \n"
     ]
    },
    {
     "ename": "ValueError",
     "evalue": "max() arg is an empty sequence",
     "output_type": "error",
     "traceback": [
      "\u001b[0;31m---------------------------------------------------------------------------\u001b[0m",
      "\u001b[0;31mValueError\u001b[0m                                Traceback (most recent call last)",
      "\u001b[1;32m/home/tostby/random/knowit_2022/des11/des11.ipynb Cell 1\u001b[0m in \u001b[0;36m<module>\u001b[0;34m\u001b[0m\n\u001b[1;32m     <a href='vscode-notebook-cell://wsl%2Bubuntu/home/tostby/random/knowit_2022/des11/des11.ipynb#W0sdnNjb2RlLXJlbW90ZQ%3D%3D?line=50'>51</a>\u001b[0m         potential_bit\u001b[39m.\u001b[39mappend(i)\n\u001b[1;32m     <a href='vscode-notebook-cell://wsl%2Bubuntu/home/tostby/random/knowit_2022/des11/des11.ipynb#W0sdnNjb2RlLXJlbW90ZQ%3D%3D?line=51'>52</a>\u001b[0m \u001b[39mprint\u001b[39m(\u001b[39m\"\u001b[39m\u001b[39mIndex: \u001b[39m\u001b[39m\"\u001b[39m)\n\u001b[0;32m---> <a href='vscode-notebook-cell://wsl%2Bubuntu/home/tostby/random/knowit_2022/des11/des11.ipynb#W0sdnNjb2RlLXJlbW90ZQ%3D%3D?line=52'>53</a>\u001b[0m wrong_bit \u001b[39m=\u001b[39m \u001b[39mmax\u001b[39;49m(\u001b[39mset\u001b[39;49m(potential_bit), key \u001b[39m=\u001b[39;49m potential_bit\u001b[39m.\u001b[39;49mcount)\n\u001b[1;32m     <a href='vscode-notebook-cell://wsl%2Bubuntu/home/tostby/random/knowit_2022/des11/des11.ipynb#W0sdnNjb2RlLXJlbW90ZQ%3D%3D?line=53'>54</a>\u001b[0m \u001b[39m#potential_bit.sort(reverse=True)\u001b[39;00m\n\u001b[1;32m     <a href='vscode-notebook-cell://wsl%2Bubuntu/home/tostby/random/knowit_2022/des11/des11.ipynb#W0sdnNjb2RlLXJlbW90ZQ%3D%3D?line=54'>55</a>\u001b[0m \u001b[39m#print(potential_bit.count())\u001b[39;00m\n\u001b[1;32m     <a href='vscode-notebook-cell://wsl%2Bubuntu/home/tostby/random/knowit_2022/des11/des11.ipynb#W0sdnNjb2RlLXJlbW90ZQ%3D%3D?line=55'>56</a>\u001b[0m \u001b[39mif\u001b[39;00m data_blokk[wrong_bit] \u001b[39m==\u001b[39m \u001b[39m1\u001b[39m:\n",
      "\u001b[0;31mValueError\u001b[0m: max() arg is an empty sequence"
     ]
    }
   ],
   "source": [
    "data_blokk = [\n",
    "  #0, 0, 1, 1, 1, 0, 1, 0, 0, 0, 1, 0, 1, 0, 0, 0,\n",
    "  # 0, 1, 1, 0, 1, 0, 1, 1, 1, 1, 1, 0, 1, 0, 1, 0\n",
    "]\n",
    "data_blokk  = [\n",
    " 0, 1, 1, 1, 0, 0, 0, 0, 1, 0, 0, 1, 0, 1, 1, 0,\n",
    " #0, 0, 1, 0, 1, 1, 1, 0, 1, 0, 0, 1, 1, 1, 1, 0,\n",
    " #0, 0, 1, 0, 0, 0, 1, 0, 0, 1, 1, 1, 0, 1, 1, 0\n",
    "]\n",
    "\n",
    "par1 = [ 1,  3,  5,  7,  9, 11, 13, 15]\n",
    "par2 = [ 2,  3,  6,  7, 10, 11, 14, 15]\n",
    "par4 = [ 4,  5,  6,  7, 12, 13, 14, 15]\n",
    "par8 = [ 8,  9, 10, 11, 12, 13, 14, 15]\n",
    "potential_bit = []\n",
    "#for bit in data_blokk:\n",
    "par1_total = 0\n",
    "par1_correct = True\n",
    "for index in par1:\n",
    "    par1_total += data_blokk[index]\n",
    "print(par1_total)\n",
    "if par1_total % 2 != 0:\n",
    "    for i in par1:\n",
    "        potential_bit.append(i)\n",
    "\n",
    "par2_total = 0\n",
    "par2_correct = False\n",
    "for index in par2:\n",
    "    par2_total += data_blokk[index]\n",
    "print(par2_total)\n",
    "if par2_total % 2 != 0:\n",
    "    for i in par2:\n",
    "        potential_bit.append(i)\n",
    "\n",
    "par4_total = 0\n",
    "par4_correct = False\n",
    "for index in par4:\n",
    "    par4_total += data_blokk[index]\n",
    "print(par4_total)\n",
    "if par4_total % 2 != 0:\n",
    "    for i in par4:\n",
    "        potential_bit.append(i)\n",
    "\n",
    "par8_total = 0\n",
    "par8_correct = False\n",
    "for index in par8:\n",
    "    par8_total += data_blokk[index]\n",
    "print(par8_total)\n",
    "if par8_total % 2 != 0:\n",
    "    for i in par8:\n",
    "        potential_bit.append(i)\n",
    "print(\"Index: \")\n",
    "if not max, dont do anythimg\n",
    "wrong_bit = max(set(potential_bit), key = potential_bit.count)\n",
    "#potential_bit.sort(reverse=True)\n",
    "#print(potential_bit.count())\n",
    "if data_blokk[wrong_bit] == 1:\n",
    "    data_blokk[wrong_bit] = 0\n",
    "else:\n",
    "    data_blokk[wrong_bit] = 1\n",
    "#data_blokk.\n",
    "del data_blokk[8]\n",
    "del data_blokk[4]\n",
    "del data_blokk[2]\n",
    "del data_blokk[1]\n",
    "del data_blokk[0]\n",
    "print(\"\".join(data_blokk))"
   ]
  },
  {
   "cell_type": "code",
   "execution_count": 5,
   "metadata": {},
   "outputs": [
    {
     "name": "stdout",
     "output_type": "stream",
     "text": [
      "1\n"
     ]
    }
   ],
   "source": [
    "print(3%2)\n"
   ]
  },
  {
   "cell_type": "code",
   "execution_count": null,
   "metadata": {},
   "outputs": [],
   "source": []
  }
 ],
 "metadata": {
  "kernelspec": {
   "display_name": "Python 3",
   "language": "python",
   "name": "python3"
  },
  "language_info": {
   "codemirror_mode": {
    "name": "ipython",
    "version": 3
   },
   "file_extension": ".py",
   "mimetype": "text/x-python",
   "name": "python",
   "nbconvert_exporter": "python",
   "pygments_lexer": "ipython3",
   "version": "3.8.10"
  },
  "orig_nbformat": 4,
  "vscode": {
   "interpreter": {
    "hash": "916dbcbb3f70747c44a77c7bcd40155683ae19c65e1c03b4aa3499c5328201f1"
   }
  }
 },
 "nbformat": 4,
 "nbformat_minor": 2
}
