{
 "cells": [
  {
   "cell_type": "code",
   "execution_count": 4,
   "metadata": {},
   "outputs": [
    {
     "name": "stdout",
     "output_type": "stream",
     "text": [
      "3\n",
      "5\n",
      "3\n",
      "5\n",
      "Index: \n",
      "00101110111\n"
     ]
    }
   ],
   "source": [
    "data_blokk = [\n",
    "  #0, 0, 1, 1, 1, 0, 1, 0, 0, 0, 1, 0, 1, 0, 0, 0,\n",
    "  # 0, 1, 1, 0, 1, 0, 1, 1, 1, 1, 1, 0, 1, 0, 1, 0\n",
    "]\n",
    "data_blokk  = [\n",
    " #0, 1, 1, 1, 0, 0, 0, 0, 1, 0, 0, 1, 0, 1, 1, 0,\n",
    " #0, 0, 1, 0, 1, 1, 1, 0, 1, 0, 0, 1, 1, 1, 1, 0,\n",
    " 0, 0, 1, 0, 0, 0, 1, 0, 0, 1, 1, 1, 0, 1, 1, 0\n",
    "]\n",
    "\n",
    "par1 = [ 1,  3,  5,  7,  9, 11, 13, 15]\n",
    "par2 = [ 2,  3,  6,  7, 10, 11, 14, 15]\n",
    "par4 = [ 4,  5,  6,  7, 12, 13, 14, 15]\n",
    "par8 = [ 8,  9, 10, 11, 12, 13, 14, 15]\n",
    "potential_bit = []\n",
    "#for bit in data_blokk:\n",
    "par1_total = 0\n",
    "par1_correct = True\n",
    "for index in par1:\n",
    "    par1_total += data_blokk[index]\n",
    "print(par1_total)\n",
    "if par1_total % 2 != 0:\n",
    "    for i in par1:\n",
    "        potential_bit.append(i)\n",
    "\n",
    "par2_total = 0\n",
    "par2_correct = False\n",
    "for index in par2:\n",
    "    par2_total += data_blokk[index]\n",
    "print(par2_total)\n",
    "if par2_total % 2 != 0:\n",
    "    for i in par2:\n",
    "        potential_bit.append(i)\n",
    "\n",
    "par4_total = 0\n",
    "par4_correct = False\n",
    "for index in par4:\n",
    "    par4_total += data_blokk[index]\n",
    "print(par4_total)\n",
    "if par4_total % 2 != 0:\n",
    "    for i in par4:\n",
    "        potential_bit.append(i)\n",
    "\n",
    "par8_total = 0\n",
    "par8_correct = False\n",
    "for index in par8:\n",
    "    par8_total += data_blokk[index]\n",
    "print(par8_total)\n",
    "if par8_total % 2 != 0:\n",
    "    for i in par8:\n",
    "        potential_bit.append(i)\n",
    "print(\"Index: \")\n",
    "wrong_bit = \"\"\n",
    "if potential_bit:\n",
    "    wrong_bit = max(set(potential_bit), key = potential_bit.count)\n",
    "#potential_bit.sort(reverse=True)\n",
    "#print(potential_bit.count())\n",
    "if wrong_bit:\n",
    "    if data_blokk[wrong_bit] == 1:\n",
    "        data_blokk[wrong_bit] = 0\n",
    "    else:\n",
    "        data_blokk[wrong_bit] = 1\n",
    "#data_blokk.\n",
    "del data_blokk[8]\n",
    "del data_blokk[4]\n",
    "del data_blokk[2]\n",
    "del data_blokk[1]\n",
    "del data_blokk[0]\n",
    "output = [str(x) for x in data_blokk]\n",
    "print(\"\".join(output))\n"
   ]
  },
  {
   "cell_type": "code",
   "execution_count": 5,
   "metadata": {},
   "outputs": [
    {
     "name": "stdout",
     "output_type": "stream",
     "text": [
      "1\n"
     ]
    }
   ],
   "source": [
    "print(3%2)\n"
   ]
  },
  {
   "cell_type": "code",
   "execution_count": null,
   "metadata": {},
   "outputs": [],
   "source": []
  }
 ],
 "metadata": {
  "kernelspec": {
   "display_name": "Python 3",
   "language": "python",
   "name": "python3"
  },
  "language_info": {
   "codemirror_mode": {
    "name": "ipython",
    "version": 3
   },
   "file_extension": ".py",
   "mimetype": "text/x-python",
   "name": "python",
   "nbconvert_exporter": "python",
   "pygments_lexer": "ipython3",
   "version": "3.8.10 (default, Sep 28 2021, 16:10:42) \n[GCC 9.3.0]"
  },
  "orig_nbformat": 4,
  "vscode": {
   "interpreter": {
    "hash": "916dbcbb3f70747c44a77c7bcd40155683ae19c65e1c03b4aa3499c5328201f1"
   }
  }
 },
 "nbformat": 4,
 "nbformat_minor": 2
}
