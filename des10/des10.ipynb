{
 "cells": [
  {
   "cell_type": "code",
   "execution_count": 1,
   "metadata": {},
   "outputs": [
    {
     "name": "stdout",
     "output_type": "stream",
     "text": [
      "60763\n",
      "2831\n"
     ]
    }
   ],
   "source": [
    "Rmax = 1000000\n",
    "alfa = 0.2\n",
    "b = 0.1\n",
    "y = 0.000075\n",
    "gamma = 83\n",
    "\n",
    "# Rn = 10\n",
    "R0 = 125000\n",
    "U0 = 3500\n",
    "\n",
    "Rtotal = 0\n",
    "Utotal = 0\n",
    "Rn1 = R0\n",
    "Un1 = U0\n",
    "\n",
    "for n in range(1, 1_000_000_000_001):\n",
    "    Rn = int(Rn1 + (alfa * Rn1 * (Rmax - Rn1)) / Rmax - y * Un1 * Rn1)\n",
    "    \n",
    "\n",
    "    Un = int(Un1 + (y * Un1 * Rn1) / gamma - b * Un1)\n",
    "    Rn1 = Rn\n",
    "    Un1 = Un\n",
    "print(Rn1)\n",
    "print(Un1)"
   ]
  },
  {
   "cell_type": "code",
   "execution_count": null,
   "metadata": {},
   "outputs": [],
   "source": []
  }
 ],
 "metadata": {
  "interpreter": {
   "hash": "916dbcbb3f70747c44a77c7bcd40155683ae19c65e1c03b4aa3499c5328201f1"
  },
  "kernelspec": {
   "display_name": "Python 3.8.5 64-bit",
   "language": "python",
   "name": "python3"
  },
  "language_info": {
   "codemirror_mode": {
    "name": "ipython",
    "version": 3
   },
   "file_extension": ".py",
   "mimetype": "text/x-python",
   "name": "python",
   "nbconvert_exporter": "python",
   "pygments_lexer": "ipython3",
   "version": "3.8.5"
  },
  "orig_nbformat": 4
 },
 "nbformat": 4,
 "nbformat_minor": 2
}
