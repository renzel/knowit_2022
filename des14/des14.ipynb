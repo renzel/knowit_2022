{
 "cells": [
  {
   "cell_type": "code",
   "execution_count": 1,
   "metadata": {},
   "outputs": [
    {
     "name": "stdout",
     "output_type": "stream",
     "text": [
      "99000\n",
      "10912534773142748664\n"
     ]
    }
   ],
   "source": [
    "import math\n",
    "pakke = 0.1 \n",
    "reinsdyr_kg = 100\n",
    "nisse = 100\n",
    "slede = 900\n",
    "reisen = 100_000\n",
    "frakt_per_reinsdyr = 1000\n",
    "\n",
    "pakker = 1_000_000\n",
    "# På 10^3 km leveres 10_000 pakker, 1000kg pakker\n",
    "# Siste etappe: 1000kg + 1000kg = 200kg*x (10 reinsdyr?)\n",
    "# n-1 etappe: 2000kg + 1000kg + 10*100kg = \n",
    "# n-1 etappe: 10 + 5 + 5 = 20\n",
    "# n-2 etappe: 3000kg + 1000kg + (10+20)*100kg = 200kg*x (35 reinsdyr)\n",
    "# n-2 etappe: 15 + 5 + 15 = 35\n",
    "# n-3 etappe: 4000kg + 1000kg + (10+20+35)*100kg = 200kg*x  (58 reinsdyr)\n",
    "# n-4 etappe: 5000kg + 1000kg + (10+20+35+58)*100kg = 200kg*x  (92 reinsdyr)\n",
    "\n",
    "antall_nye_reinsdyr = 0\n",
    "for i in range(1,101):\n",
    "    masse = nisse + slede + 1000 * i + antall_nye_reinsdyr * reinsdyr_kg\n",
    "    antall_reinsdyr = math.ceil(masse/200)\n",
    "    antall_nye_reinsdyr += antall_reinsdyr\n",
    "    #print(antall_reinsdyr)\n",
    "    #print(antall_nye_reinsdyr)\n",
    "    #print()\n",
    "print(1000 * i)\n",
    "print(round(antall_nye_reinsdyr))"
   ]
  },
  {
   "cell_type": "code",
   "execution_count": null,
   "metadata": {},
   "outputs": [],
   "source": [
    "# Antall pakker som skal leveres\n",
    "num_packages = 10**6\n",
    "\n",
    "# Lengden på reisen i km\n",
    "journey_length = 10**5\n",
    "\n",
    "# Vekten på en pakke i kg\n",
    "package_weight = 0.1\n",
    "\n",
    "# Vekten på nissen og sleden i kg\n",
    "santa_weight = 100\n",
    "\n",
    "# Vekten på hvert reinsdyr i kg\n",
    "reindeer_weight = 100\n",
    "\n",
    "# Hvor mye hvert reinsdyr kan dra i tillegg til seg selv i kg\n",
    "reindeer_pull = 200\n",
    "\n",
    "# Antall skift med reinsdyr\n",
    "num_shifts = journey_length / 1000\n",
    "\n",
    "# Vekten på pakkene i kg\n",
    "package_weight_kg = num_packages * package_weight\n",
    "\n",
    "# Totalt antall reinsdyr som trengs\n",
    "total_reindeer = 0\n",
    "weight = santa_weight + 900\n",
    "# For hvert skift\n",
    "print(num_shifts)\n",
    "for shift in range(int(num_shifts)):\n",
    "    # Legg til vekten på pakkene\n",
    "    weight = package_weight_kg\n",
    "    \n",
    "    # Legg til vekten på nissen og sleden\n",
    "    weight += santa_weight\n",
    "\n",
    "    # Legg til vekten på reinsdyrene som skal dra senere skift\n",
    "    weight += reindeer_weight * (shift + 1)\n",
    "\n",
    "    # Regn ut hvor mange reinsdyr som trengs for å dra dette skiftet\n",
    "    shift_reindeer = weight / (reindeer_weight + reindeer_pull)\n",
    "\n",
    "    # Legg til antallet reinsdyr for dette skiftet\n",
    "    total_reindeer += shift_reindeer\n",
    "\n",
    "# Skriv ut det totale antallet reinsdyr som trengs\n",
    "print(total_reindeer)"
   ]
  },
  {
   "cell_type": "code",
   "execution_count": null,
   "metadata": {},
   "outputs": [],
   "source": [
    "antall_reinsdyr = 49353623876246944121839071220795963495258427745243696909748368380994956334963862202838270522151545619571839148096134573691830324"
   ]
  }
 ],
 "metadata": {
  "kernelspec": {
   "display_name": "Python 3",
   "language": "python",
   "name": "python3"
  },
  "language_info": {
   "codemirror_mode": {
    "name": "ipython",
    "version": 3
   },
   "file_extension": ".py",
   "mimetype": "text/x-python",
   "name": "python",
   "nbconvert_exporter": "python",
   "pygments_lexer": "ipython3",
   "version": "3.10.5"
  },
  "orig_nbformat": 4,
  "vscode": {
   "interpreter": {
    "hash": "97cc609b13305c559618ec78a438abc56230b9381f827f22d070313b9a1f3777"
   }
  }
 },
 "nbformat": 4,
 "nbformat_minor": 2
}
