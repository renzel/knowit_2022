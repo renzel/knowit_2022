{
 "cells": [
  {
   "cell_type": "code",
   "execution_count": null,
   "metadata": {},
   "outputs": [],
   "source": [
    "with open(\"gaver.txt\", \"r\") as f:\n",
    "    gaver = f.read()\n",
    "\n",
    "linjer = 0\n",
    "text = [\"På den første alvedagen sendte nissemor til meg\"]\n",
    "new_text = \"\"\n",
    "full = False\n",
    "alv = False\n",
    "full_text = \"\"\n",
    "for gave in gaver.split(\"\\n\"):\n",
    "    if \"alv\" in gave:\n",
    "        alv = True\n",
    "    else:\n",
    "        alv = False\n",
    "    if len(text) == 1:\n",
    "        text.append(gave)\n",
    "    elif len(text) == 2:\n",
    "        if full:\n",
    "            text.append(gave)\n",
    "        elif len(text[1].split(\"og\")) < 3:\n",
    "            text[1] +=  \" og \" + gave\n",
    "            \n",
    "        elif len(text[1].split(\"og\")) == 3:\n",
    "            text.append(gave)\n",
    "            full = True\n",
    "    else:\n",
    "        text.append(gave)\n",
    "   \n",
    "    for linje in text:\n",
    "        full_text += linje + \"\\n\"\n",
    "        \n",
    "    if gave in text and alv:\n",
    "        text.remove(gave)\n",
    "    if gave in text[1] and alv:\n",
    "        if len(text[1].split(\"og\")) == 3:\n",
    "            text[1] = text[1].replace(gave, \"\")\n",
    "            full = False\n",
    "        elif len(text[1].split(\"og\")) < 3:\n",
    "            text[1] = text[1].replace(\" og \" + gave, \"\")\n",
    "print(full_text)"
   ]
  },
  {
   "cell_type": "code",
   "execution_count": null,
   "metadata": {},
   "outputs": [],
   "source": [
    "x = 'rapphøne i et pent tre og franske høner og svarte troster'\n",
    "print(len(x.split(\"og\")))"
   ]
  },
  {
   "cell_type": "code",
   "execution_count": null,
   "metadata": {},
   "outputs": [],
   "source": [
    "from pathlib import Path\n",
    "gifts = Path(\"gaver.txt\").read_text().strip().split(\"\\n\")\n",
    "ans = 0\n",
    "n = 0\n",
    "for gift in gifts:\n",
    "    ans += max(n, 2)\n",
    "    print(ans)\n",
    "    n += \"alv\" not in gift\n",
    "    print(f\"n: {n}\")\n",
    "print(ans)"
   ]
  },
  {
   "cell_type": "code",
   "execution_count": 78,
   "metadata": {},
   "outputs": [
    {
     "name": "stdout",
     "output_type": "stream",
     "text": [
      "944\n"
     ]
    }
   ],
   "source": [
    "with open(\"gaver.txt\", \"r\") as file:\n",
    "  lines = file.readlines()\n",
    "num_lines = 0\n",
    "prev = 0\n",
    "for thing in lines:\n",
    "  prev += 1\n",
    "  if prev > 3:\n",
    "    num_lines += (prev - 2) + 1  \n",
    "  else:\n",
    "    num_lines += 2\n",
    "  if \"alv\" in thing:\n",
    "    prev -= 1\n",
    "print(num_lines)"
   ]
  },
  {
   "cell_type": "code",
   "execution_count": null,
   "metadata": {},
   "outputs": [],
   "source": []
  },
  {
   "cell_type": "code",
   "execution_count": null,
   "metadata": {},
   "outputs": [],
   "source": []
  }
 ],
 "metadata": {
  "kernelspec": {
   "display_name": "Python 3.10.4 64-bit",
   "language": "python",
   "name": "python3"
  },
  "language_info": {
   "codemirror_mode": {
    "name": "ipython",
    "version": 3
   },
   "file_extension": ".py",
   "mimetype": "text/x-python",
   "name": "python",
   "nbconvert_exporter": "python",
   "pygments_lexer": "ipython3",
   "version": "3.10.4"
  },
  "orig_nbformat": 4,
  "vscode": {
   "interpreter": {
    "hash": "916dbcbb3f70747c44a77c7bcd40155683ae19c65e1c03b4aa3499c5328201f1"
   }
  }
 },
 "nbformat": 4,
 "nbformat_minor": 2
}
