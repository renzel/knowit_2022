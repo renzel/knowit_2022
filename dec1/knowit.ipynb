{
 "cells": [
  {
   "cell_type": "code",
   "execution_count": 4,
   "metadata": {},
   "outputs": [
    {
     "name": "stdout",
     "output_type": "stream",
     "text": [
      "[('Poshi', 'one'), ('Hot', 'hot'), ('Chivabvu', 'may'), ('Pamazita', 'list'), ('Zvisinei', 'though'), ('Machine', 'machine'), ('Mineti', 'minute'), ('Kazhinji', 'general'), ('Donhedza', 'drop'), ('Lone', 'lone'), ('Sat', 'sat'), ('Chaizvoizvo', 'effect'), ('Triangle', 'triangle'), ('Akatenga', 'bought')]\n",
      "may may machine machine effect triangle \n",
      "                                                                                                                                                                                                                                                                                                         n                                                                                                                            \n",
      "2401\n"
     ]
    }
   ],
   "source": [
    "with open(\"dict.txt\", \"r\") as f:\n",
    "    dictionary = f.read()\n",
    "letter = \"\"\n",
    "with open(\"letter.txt\", \"r\") as f:\n",
    "    letter = f.read()\n",
    "\n",
    "list_of_tuples = []\n",
    "capital_letters = []\n",
    "for item in dictionary.split():\n",
    "    tuples = tuple(item.split(\",\"))\n",
    "    if tuples[0][0].isupper():\n",
    "        capital_letters.append(tuples)\n",
    "    else:\n",
    "        list_of_tuples.append(tuples)\n",
    "print(capital_letters)\n",
    "new_string = \"\"\n",
    "\n",
    "for item in capital_letters:\n",
    "    count = letter.count(item[0])\n",
    "    for x in range(count):\n",
    "        new_string += item[1] + \" \"\n",
    "    letter = letter.replace(item[0], \" \")\n",
    "print(new_string)\n",
    "with open(\"output.txt\", \"a\") as f:\n",
    "    f.write(letter)\n",
    "\n",
    "list_of_tuples.sort(key=lambda t: len(t[0]), reverse=True)\n",
    "for item in list_of_tuples:\n",
    "    count = letter.count(item[0])\n",
    "    for x in range(count):\n",
    "        new_string += item[1] + \" \"\n",
    "    letter = letter.replace(item[0], \" \")\n",
    "    with open(\"output.txt\", \"a\") as f:\n",
    "        f.write(letter)\n",
    "\n",
    "print(letter)\n",
    "print(len(new_string))"
   ]
  },
  {
   "cell_type": "code",
   "execution_count": 11,
   "metadata": {},
   "outputs": [
    {
     "name": "stdout",
     "output_type": "stream",
     "text": [
      "1\n",
      "Kazhinji \n"
     ]
    }
   ],
   "source": [
    "y = \"Kazhinjikazhinji\"\n",
    "print(y.count(\"kazhinji\"))\n",
    "y = y.replace(\"kazhinji\", f\" \")\n",
    "print(y)"
   ]
  },
  {
   "cell_type": "code",
   "execution_count": null,
   "metadata": {},
   "outputs": [],
   "source": []
  }
 ],
 "metadata": {
  "kernelspec": {
   "display_name": "Python 3.10.5 64-bit",
   "language": "python",
   "name": "python3"
  },
  "language_info": {
   "codemirror_mode": {
    "name": "ipython",
    "version": 3
   },
   "file_extension": ".py",
   "mimetype": "text/x-python",
   "name": "python",
   "nbconvert_exporter": "python",
   "pygments_lexer": "ipython3",
   "version": "3.10.5"
  },
  "orig_nbformat": 4,
  "vscode": {
   "interpreter": {
    "hash": "97cc609b13305c559618ec78a438abc56230b9381f827f22d070313b9a1f3777"
   }
  }
 },
 "nbformat": 4,
 "nbformat_minor": 2
}
