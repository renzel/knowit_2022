{
 "cells": [
  {
   "cell_type": "code",
   "execution_count": null,
   "metadata": {},
   "outputs": [],
   "source": [
    "from collections import deque\n",
    "\n",
    "def convex_hull(points):\n",
    "  # Sorter punktene etter x-verdi, med den minste x-verdien først.\n",
    "  points = sorted(points)\n",
    "\n",
    "  # Finn de øverste og nederste punktene i hull.\n",
    "  lower = deque()\n",
    "  for p in points:\n",
    "    while len(lower) >= 2 and cross(lower[-2], lower[-1], p) <= 0:\n",
    "      lower.pop()\n",
    "    lower.append(p)\n",
    "\n",
    "  upper = deque()\n",
    "  for p in reversed(points):\n",
    "    while len(upper) >= 2 and cross(upper[-2], upper[-1], p) <= 0:\n",
    "      upper.pop()\n",
    "    upper.append(p)\n",
    "\n",
    "  # Fjern duplikater i toppen og bunnen.\n",
    "  upper.pop()\n",
    "  lower.pop()\n",
    "\n",
    "  # Returner konveks hull som en liste med punkter.\n",
    "  return list(lower) + list(upper)\n",
    "\n",
    "def cross(o, a, b):\n",
    "  # Beregn kryssproduktet mellom vektoren (o, a) og vektoren (o, b).\n",
    "  return (a[0] - o[0]) * (b[1] - o[1]) - (a[1] - o[1]) * (b[0] - o[0])"
   ]
  },
  {
   "cell_type": "code",
   "execution_count": 34,
   "metadata": {},
   "outputs": [
    {
     "name": "stdout",
     "output_type": "stream",
     "text": [
      "Areal: 978948822823.0\n"
     ]
    },
    {
     "data": {
      "image/png": "[encoded data removed]",
      "text/plain": [
       "<Figure size 432x288 with 1 Axes>"
      ]
     },
     "metadata": {
      "needs_background": "light"
     },
     "output_type": "display_data"
    }
   ],
   "source": [
    "with open(\"data.txt\", \"r\") as f:\n",
    "    stolper = f.read().split(\"\\n\")\n",
    "stolper_tuples = []\n",
    "for stolpe_row in stolper:\n",
    "    stolpe_row.split(\" \")\n",
    "    list_to_tuple = []\n",
    "    for coord in stolpe_row.split(\" \"):\n",
    "        list_to_tuple.append(int(coord))\n",
    "    stolper_tuples.append(tuple(list_to_tuple))\n",
    "hull = convex_hull(stolper_tuples)\n",
    "\n",
    "def area(polygon):\n",
    "  n = len(polygon)\n",
    "  a = 0\n",
    "  b = 0\n",
    "  for i in range(n):\n",
    "    j = (i + 1) % n\n",
    "    a += polygon[i][0] * polygon[j][1]\n",
    "    b += polygon[j][0] * polygon[i][1]\n",
    "  return abs(a - b) / 2.0\n",
    "# Beregn arealet av polygonet\n",
    "area = area(hull)\n",
    "\n",
    "# Skriv ut resultatet\n",
    "print(f\"Areal: {area}\")\n",
    "import numpy as np\n",
    "import matplotlib.pyplot as plt\n",
    "L = np.array(hull)\n",
    "P = np.array(stolper_tuples)\n",
    "plt.figure()\n",
    "plt.plot(L[:,0],L[:,1], 'b-', picker=5)\n",
    "plt.plot([L[-1,0],L[0,0]],[L[-1,1],L[0,1]], 'b-', picker=5)\n",
    "plt.plot(P[:,0],P[:,1],\".r\")\n",
    "plt.axis('off')\n",
    "plt.show()"
   ]
  },
  {
   "cell_type": "code",
   "execution_count": null,
   "metadata": {},
   "outputs": [],
   "source": []
  }
 ],
 "metadata": {
  "kernelspec": {
   "display_name": "Python 3",
   "language": "python",
   "name": "python3"
  },
  "language_info": {
   "codemirror_mode": {
    "name": "ipython",
    "version": 3
   },
   "file_extension": ".py",
   "mimetype": "text/x-python",
   "name": "python",
   "nbconvert_exporter": "python",
   "pygments_lexer": "ipython3",
   "version": "3.10.5"
  },
  "orig_nbformat": 4,
  "vscode": {
   "interpreter": {
    "hash": "97cc609b13305c559618ec78a438abc56230b9381f827f22d070313b9a1f3777"
   }
  }
 },
 "nbformat": 4,
 "nbformat_minor": 2
}
